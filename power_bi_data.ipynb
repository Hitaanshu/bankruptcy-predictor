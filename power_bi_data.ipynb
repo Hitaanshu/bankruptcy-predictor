{
 "cells": [
  {
   "cell_type": "code",
   "execution_count": 1,
   "id": "64f738a6",
   "metadata": {},
   "outputs": [],
   "source": [
    "import pandas as pd\n",
    "bankruptcy_data = pd.read_csv(\"bankruptcy_data.csv\")\n",
    "macro_data = pd.read_csv(\"macro_data.csv\")\n",
    "shap_data = pd.read_csv(\"shap_explanations.csv\")\n",
    "predictions = pd.read_csv(\"xgb_predictions.csv\")\n",
    "\\\n",
    "bankruptcy_data.reset_index(drop=True, inplace=True)\n",
    "macro_data.reset_index(drop=True, inplace=True)\n",
    "shap_data.reset_index(drop=True, inplace=True)\n",
    "predictions.reset_index(drop=True, inplace=True)\n",
    "merged_df = pd.concat([bankruptcy_data, macro_data, shap_data, predictions], axis=1)\n",
    "merged_df.to_csv(\"merged_data_for_powerbi.csv\", index=False)\n"
   ]
  }
 ],
 "metadata": {
  "kernelspec": {
   "display_name": "bankruptcy-env",
   "language": "python",
   "name": "python3"
  },
  "language_info": {
   "codemirror_mode": {
    "name": "ipython",
    "version": 3
   },
   "file_extension": ".py",
   "mimetype": "text/x-python",
   "name": "python",
   "nbconvert_exporter": "python",
   "pygments_lexer": "ipython3",
   "version": "3.10.18"
  }
 },
 "nbformat": 4,
 "nbformat_minor": 5
}
