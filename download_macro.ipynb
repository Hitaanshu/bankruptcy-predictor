{
 "cells": [
  {
   "cell_type": "code",
   "execution_count": 2,
   "id": "d86ff609",
   "metadata": {},
   "outputs": [
    {
     "name": "stdout",
     "output_type": "stream",
     "text": [
      "✅ Macroeconomic data saved to: C:\\Users\\KIIT\\Desktop\\macro_data.csv\n"
     ]
    }
   ],
   "source": [
    "from fredapi import Fred\n",
    "import pandas as pd\n",
    "import os\n",
    "\n",
    "# 👉 Paste your FRED API Key here\n",
    "FRED_API_KEY = \"8d479ec704135fc8e86184cf1f46063b\"\n",
    "fred = Fred(api_key=FRED_API_KEY)\n",
    "\n",
    "# 📊 Fetch key macroeconomic indicators\n",
    "gdp_growth = fred.get_series('A191RL1Q225SBEA')     # Real GDP Growth Rate\n",
    "cpi = fred.get_series('CPIAUCSL')                   # Consumer Price Index\n",
    "unemployment = fred.get_series('UNRATE')            # Unemployment Rate\n",
    "interest_rate = fred.get_series('FEDFUNDS')         # Federal Funds Rate\n",
    "\n",
    "# 🧹 Combine into a DataFrame\n",
    "macro_df = pd.concat([gdp_growth, cpi, unemployment, interest_rate], axis=1)\n",
    "macro_df.columns = ['GDP Growth', 'CPI', 'Unemployment Rate', 'Interest Rate']\n",
    "macro_df.dropna(inplace=True)\n",
    "\n",
    "# 💾 Save to Desktop\n",
    "desktop_path = os.path.join(os.path.expanduser(\"~\"), \"Desktop\", \"macro_data.csv\")\n",
    "macro_df.to_csv(desktop_path)\n",
    "\n",
    "print(f\"✅ Macroeconomic data saved to: {desktop_path}\")\n"
   ]
  }
 ],
 "metadata": {
  "kernelspec": {
   "display_name": "bankruptcy-env",
   "language": "python",
   "name": "python3"
  },
  "language_info": {
   "codemirror_mode": {
    "name": "ipython",
    "version": 3
   },
   "file_extension": ".py",
   "mimetype": "text/x-python",
   "name": "python",
   "nbconvert_exporter": "python",
   "pygments_lexer": "ipython3",
   "version": "3.10.18"
  }
 },
 "nbformat": 4,
 "nbformat_minor": 5
}
